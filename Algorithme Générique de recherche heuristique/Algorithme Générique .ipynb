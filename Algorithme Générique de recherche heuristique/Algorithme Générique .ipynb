{
 "cells": [
  {
   "cell_type": "markdown",
   "id": "b6c94f16",
   "metadata": {},
   "source": [
    "# Implémentation"
   ]
  },
  {
   "cell_type": "code",
   "execution_count": 27,
   "id": "240366dd",
   "metadata": {},
   "outputs": [],
   "source": [
    "import heapq\n",
    "\n",
    "def a_star(graph, start, goal, h):\n",
    "    # Initialisation\n",
    "    open_set = [(0, start)]\n",
    "    came_from = {}\n",
    "    g_score = {start: 0}\n",
    "    \n",
    "    while open_set:\n",
    "        # Sélectionne le nœud avec le coût f(n) le plus faible\n",
    "        f, current = heapq.heappop(open_set)\n",
    "        \n",
    "        # Si le goal est atteint, retourne le chemin\n",
    "        if current == goal:\n",
    "            path = [current]\n",
    "            while current in came_from:\n",
    "                current = came_from[current]\n",
    "                path.append(current)\n",
    "            return path[::-1]\n",
    "        \n",
    "        # Évalue tous les voisins du nœud courant\n",
    "        for neighbor, cost in graph[current].items():\n",
    "            # Calcule le nouveau coût g(n)\n",
    "            new_g = g_score[current] + cost\n",
    "            \n",
    "            # Si le voisin n'a pas été évalué ou a un coût plus élevé, met à jour ses informations\n",
    "            if neighbor not in g_score or new_g < g_score[neighbor]:\n",
    "                g_score[neighbor] = new_g\n",
    "                f_score = new_g + h(neighbor, goal)\n",
    "                heapq.heappush(open_set, (f_score, neighbor))\n",
    "                came_from[neighbor] = current\n",
    "    \n",
    "    # Si la liste ouverte est vide et que le goal n'a pas été trouvé, alors il n'y a pas de solution\n",
    "    return None"
   ]
  },
  {
   "cell_type": "markdown",
   "id": "6c71b7e1",
   "metadata": {},
   "source": [
    "Le paramètre graph est un dictionnaire qui contient les voisins de chaque nœud avec le coût de chaque arête. \n",
    "\n",
    "Par exemple :\n",
    "    graph = {\n",
    "    'A': {'B': 2, 'C': 5},\n",
    "    'B': {'D': 3},\n",
    "    'C': {'D': 1},\n",
    "    'D': {}\n",
    "    }\n",
    "    \n",
    "Le paramètre h est la fonction heuristique qui estime le coût du chemin restant de chaque nœud au nœud objectif. \n",
    "\n",
    "Par exemple :\n",
    "    def heuristic(n1, n2):\n",
    "    return 0 # Heuristique admissible mais pas très utile\n",
    "\n",
    "La fonction retourne le chemin le plus court sous la forme d'une liste de nœuds. Si aucun chemin n'a été trouvé, la fonction retourne None.\n",
    "\n",
    "La première étape consiste à initialiser les variables nécessaires pour l'algorithme. open_set est une liste de nœuds à explorer, triés par ordre croissant du coût total f(n) = g(n) + h(n). came_from est un dictionnaire qui contiendra pour chaque nœud visité, le nœud parent qui a permis d'y accéder. g_score est un dictionnaire qui contiendra pour chaque nœud visité, le coût total g(n) du chemin depuis le nœud de départ jusqu'à ce nœud.\n",
    "\n",
    "La boucle principale de l'algorithme continue tant que open_set n'est pas vide. À chaque itération, le nœud avec le coût total f(n) le plus faible est extrait de open_set avec la fonction heapq.heappop, qui renvoie le nœud avec le coût f(n) le plus faible en utilisant une structure de tas pour optimiser les performances.\n",
    "\n",
    "Si le nœud extrait est le nœud de destination goal, alors on a trouvé un chemin optimal du nœud de départ start au nœud de destination goal. On utilise alors came_from pour retrouver le chemin en partant du nœud de destination et en remontant les parents jusqu'au nœud de départ.\n",
    "\n",
    "Sinon, pour chaque voisin neighbor du nœud courant current, on calcule le coût total g_score du chemin depuis le nœud de départ jusqu'au voisin en passant par le nœud courant. Si le voisin n'a pas été visité auparavant ou si le coût total est plus faible que celui précédemment enregistré, alors on met à jour les informations du voisin dans came_from et g_score. On ajoute également le voisin à open_set avec son coût total estimé f(n) = g(n) + h(n), calculé en utilisant la fonction heuristique h.\n",
    "\n",
    "Si open_set est vide et que le nœud de destination goal n'a pas été atteint, cela signifie qu'il n'y a pas de chemin du nœud de départ start au nœud de destination goal. La fonction retourne alors None.\n",
    "\n",
    "Enfin, notons que l'efficacité de l'algorithme A* dépend fortement de la qualité de la fonction heuristique h. Une heuristique admissible (c'est-à-dire qui ne surestime jamais le coût restant) et consistante (c'est-à-dire qui respecte l'inégalité de Drejkonoff) permettra de trouver un chemin optimal plus rapidement."
   ]
  },
  {
   "cell_type": "markdown",
   "id": "6e2ddb6d",
   "metadata": {},
   "source": [
    "# Exemple"
   ]
  },
  {
   "cell_type": "markdown",
   "id": "7f407c12",
   "metadata": {},
   "source": [
    "Voici un exemple simple d'utilisation de l'algorithme A* en Python pour trouver le chemin le plus court entre deux nœuds dans un graphe :\n",
    "\n",
    "Supposons que nous ayons le graphe suivant, où chaque lettre représente un nœud et chaque nombre représente le coût pour se déplacer d'un nœud à un autre :\n",
    "\n",
    "     2    4\n",
    "A ------ B ------ C\n",
    "|       |       |\n",
    "1       3       5\n",
    "|       |       |\n",
    "D ------ E ------ F\n",
    "     2    3\n",
    "\n",
    "Nous voulons trouver le chemin le plus court de A à F. Pour ce faire, nous devons d'abord définir la fonction heuristique h qui estime le coût restant pour atteindre le nœud de destination F à partir de chaque nœud n. Dans ce cas, nous pouvons utiliser la distance à vol d'oiseau (c'est-à-dire la distance euclidienne) entre chaque nœud et F comme estimation :"
   ]
  },
  {
   "cell_type": "code",
   "execution_count": 28,
   "id": "57889b13",
   "metadata": {},
   "outputs": [],
   "source": [
    "import math\n",
    "\n",
    "def h(node):\n",
    "    if isinstance(node, tuple) and len(node) == 2:\n",
    "        x1, y1 = node\n",
    "        x2, y2 = (3, 3)  # coordonnées du nœud F\n",
    "        return math.sqrt((x1 - x2)**2 + (y1 - y2)**2)\n",
    "    else:\n",
    "        return 0  # nœud de destination sans coordonnées, distance nulle"
   ]
  },
  {
   "cell_type": "markdown",
   "id": "ec66f18b",
   "metadata": {},
   "source": [
    "Ensuite, nous pouvons définir le graphe comme un dictionnaire de listes d'adjacence :"
   ]
  },
  {
   "cell_type": "code",
   "execution_count": 29,
   "id": "c876b742",
   "metadata": {},
   "outputs": [],
   "source": [
    "graph = {\n",
    "    'A': [('B', 2), ('D', 1)],\n",
    "    'B': [('A', 2), ('C', 4), ('E', 3)],\n",
    "    'C': [('B', 4), ('F', 5)],\n",
    "    'D': [('A', 1), ('E', 2)],\n",
    "    'E': [('B', 3), ('D', 2), ('F', 3)],\n",
    "    'F': [('C', 5), ('E', 3)]\n",
    "}"
   ]
  },
  {
   "cell_type": "markdown",
   "id": "6d4d6b63",
   "metadata": {},
   "source": [
    "Enfin, nous pouvons utiliser l'algorithme A* pour trouver le chemin le plus court de A à F :"
   ]
  },
  {
   "cell_type": "code",
   "execution_count": 30,
   "id": "f0f1b462",
   "metadata": {},
   "outputs": [],
   "source": [
    "import heapq\n",
    "\n",
    "def a_star(start, goal, graph, h):\n",
    "    open_set = [(0, start)]  # structure de tas pour trier les nœuds à explorer\n",
    "    came_from = {}  # dictionnaire pour stocker les parents des nœuds visités\n",
    "    g_score = {start: 0}  # dictionnaire pour stocker les coûts g(n) des nœuds visités\n",
    "    \n",
    "    while open_set:\n",
    "        _, current = heapq.heappop(open_set)\n",
    "        if current == goal:\n",
    "            path = [current]\n",
    "            while current in came_from:\n",
    "                current = came_from[current]\n",
    "                path.append(current)\n",
    "            return list(reversed(path))\n",
    "        \n",
    "        for neighbor, cost in graph[current]:\n",
    "            tentative_g_score = g_score[current] + cost\n",
    "            if neighbor not in g_score or tentative_g_score < g_score[neighbor]:\n",
    "                came_from[neighbor] = current\n",
    "                g_score[neighbor] = tentative_g_score\n",
    "                f_score = tentative_g_score + h(neighbor)\n",
    "                heapq.heappush(open_set, (f_score, neighbor))\n",
    "    \n",
    "    return None"
   ]
  },
  {
   "cell_type": "code",
   "execution_count": 31,
   "id": "94c133b6",
   "metadata": {},
   "outputs": [
    {
     "name": "stdout",
     "output_type": "stream",
     "text": [
      "['A', 'D', 'E', 'F']\n"
     ]
    }
   ],
   "source": [
    "path = a_star('A', 'F', graph, h)\n",
    "print(path)"
   ]
  }
 ],
 "metadata": {
  "kernelspec": {
   "display_name": "Python 3 (ipykernel)",
   "language": "python",
   "name": "python3"
  },
  "language_info": {
   "codemirror_mode": {
    "name": "ipython",
    "version": 3
   },
   "file_extension": ".py",
   "mimetype": "text/x-python",
   "name": "python",
   "nbconvert_exporter": "python",
   "pygments_lexer": "ipython3",
   "version": "3.9.13"
  },
  "toc": {
   "base_numbering": 1,
   "nav_menu": {},
   "number_sections": true,
   "sideBar": true,
   "skip_h1_title": false,
   "title_cell": "Table of Contents",
   "title_sidebar": "Contents",
   "toc_cell": false,
   "toc_position": {},
   "toc_section_display": true,
   "toc_window_display": false
  }
 },
 "nbformat": 4,
 "nbformat_minor": 5
}
