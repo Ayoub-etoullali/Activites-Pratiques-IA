{
 "cells": [
  {
   "cell_type": "markdown",
   "id": "7a5dd142",
   "metadata": {},
   "source": [
    "# Algorithme de DLS"
   ]
  },
  {
   "cell_type": "code",
   "execution_count": 1,
   "id": "df05d40d",
   "metadata": {},
   "outputs": [],
   "source": [
    "class Node:\n",
    "    def __init__(self, state, children=None):\n",
    "        self.state = state\n",
    "        self.children = children or []\n",
    "\n",
    "    def expand(self):\n",
    "        return [Node(child) for child in self.children]\n",
    "\n",
    "\n",
    "def depth_limited_search(node, goal, limit):\n",
    "    if node.state == goal:\n",
    "        return True\n",
    "    elif limit == 0:\n",
    "        return False\n",
    "    else:\n",
    "        for child in node.expand():\n",
    "            if depth_limited_search(child, goal, limit-1):\n",
    "                return True\n",
    "        return False"
   ]
  },
  {
   "cell_type": "markdown",
   "id": "a601cf6f",
   "metadata": {},
   "source": [
    "# Algorithme de IDS "
   ]
  },
  {
   "cell_type": "code",
   "execution_count": 2,
   "id": "168c23d6",
   "metadata": {},
   "outputs": [],
   "source": [
    "def iterative_deepening_search(root, goal, max_depth):\n",
    "    for depth in range(max_depth+1):\n",
    "        result = depth_limited_search(root, goal, depth)\n",
    "        if result:\n",
    "            return True\n",
    "    return False"
   ]
  },
  {
   "cell_type": "markdown",
   "id": "8d3c71a8",
   "metadata": {},
   "source": [
    "# Exemple d'utilisation"
   ]
  },
  {
   "cell_type": "code",
   "execution_count": 3,
   "id": "af31dd01",
   "metadata": {},
   "outputs": [
    {
     "name": "stdout",
     "output_type": "stream",
     "text": [
      "Le noeud avec l'état F n'a pas été trouvé jusqu'à la profondeur 2 ou moins.\n"
     ]
    }
   ],
   "source": [
    "root = Node(\"A\", children=[\"B\", \"C\"])\n",
    "node_b = Node(\"B\", children=[\"D\", \"E\"])\n",
    "node_c = Node(\"C\", children=[\"F\", \"G\"])\n",
    "root.children = [node_b, node_c]\n",
    "\n",
    "goal_state = \"F\"\n",
    "max_depth = 2\n",
    "\n",
    "result = iterative_deepening_search(root, goal_state, max_depth)\n",
    "\n",
    "if result:\n",
    "    print(f\"Le noeud avec l'état {goal_state} a été trouvé jusqu'à la profondeur {max_depth} ou moins.\")\n",
    "else:\n",
    "    print(f\"Le noeud avec l'état {goal_state} n'a pas été trouvé jusqu'à la profondeur {max_depth} ou moins.\")"
   ]
  }
 ],
 "metadata": {
  "kernelspec": {
   "display_name": "Python 3 (ipykernel)",
   "language": "python",
   "name": "python3"
  },
  "language_info": {
   "codemirror_mode": {
    "name": "ipython",
    "version": 3
   },
   "file_extension": ".py",
   "mimetype": "text/x-python",
   "name": "python",
   "nbconvert_exporter": "python",
   "pygments_lexer": "ipython3",
   "version": "3.9.13"
  },
  "toc": {
   "base_numbering": 1,
   "nav_menu": {},
   "number_sections": true,
   "sideBar": true,
   "skip_h1_title": false,
   "title_cell": "Table of Contents",
   "title_sidebar": "Contents",
   "toc_cell": false,
   "toc_position": {},
   "toc_section_display": true,
   "toc_window_display": false
  }
 },
 "nbformat": 4,
 "nbformat_minor": 5
}
