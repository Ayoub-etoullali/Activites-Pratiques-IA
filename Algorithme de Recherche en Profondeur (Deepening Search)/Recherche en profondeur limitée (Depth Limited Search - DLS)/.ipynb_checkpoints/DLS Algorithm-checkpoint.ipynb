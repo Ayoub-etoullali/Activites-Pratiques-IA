{
 "cells": [
  {
   "cell_type": "markdown",
   "id": "8ba575a3",
   "metadata": {},
   "source": [
    "# Algorithme"
   ]
  },
  {
   "cell_type": "code",
   "execution_count": 6,
   "id": "992467cb",
   "metadata": {},
   "outputs": [],
   "source": [
    "class Probleme:\n",
    "    def __init__(self, graphe, depart, arrivee):\n",
    "        self.graphe = graphe\n",
    "        self.depart = depart\n",
    "        self.arrivee = arrivee\n",
    "\n",
    "    def est_but(self, noeud):\n",
    "        return noeud == self.arrivee\n",
    "\n",
    "    def successeurs(self, noeud):\n",
    "        return self.graphe[noeud]"
   ]
  },
  {
   "cell_type": "code",
   "execution_count": 7,
   "id": "df05d40d",
   "metadata": {},
   "outputs": [],
   "source": [
    "def recherche_profondeur_limitee(probleme, noeud, profondeur_limitee):\n",
    "    if probleme.est_but(noeud):\n",
    "        return True\n",
    "    elif profondeur_limitee == 0:\n",
    "        return False\n",
    "    else:\n",
    "        for successeur in probleme.successeurs(noeud):\n",
    "            if recherche_profondeur_limitee(probleme, successeur, profondeur_limitee - 1):\n",
    "                return True\n",
    "        return False"
   ]
  },
  {
   "cell_type": "markdown",
   "id": "8d3c71a8",
   "metadata": {},
   "source": [
    "# Exemple d'utilisation"
   ]
  },
  {
   "cell_type": "code",
   "execution_count": 9,
   "id": "af31dd01",
   "metadata": {},
   "outputs": [
    {
     "name": "stdout",
     "output_type": "stream",
     "text": [
      "Chemin trouvé : True\n"
     ]
    }
   ],
   "source": [
    "graphe = {\n",
    "    'A': ['B', 'C'],\n",
    "    'B': ['A', 'D', 'E'],\n",
    "    'C': ['A', 'F'],\n",
    "    'D': ['B'],\n",
    "    'E': ['B', 'F'],\n",
    "    'F': ['C', 'E']\n",
    "}\n",
    "\n",
    "probleme = ProblemeGraphe(graphe, 'A', 'F')\n",
    "\n",
    "chemin_trouve = recherche_profondeur_iterative(probleme, probleme.depart)\n",
    "\n",
    "if chemin_trouve:\n",
    "    print(\"Chemin trouvé :\", chemin_trouve)\n",
    "else:\n",
    "    print(\"Aucun chemin trouvé\")"
   ]
  }
 ],
 "metadata": {
  "kernelspec": {
   "display_name": "Python 3 (ipykernel)",
   "language": "python",
   "name": "python3"
  },
  "language_info": {
   "codemirror_mode": {
    "name": "ipython",
    "version": 3
   },
   "file_extension": ".py",
   "mimetype": "text/x-python",
   "name": "python",
   "nbconvert_exporter": "python",
   "pygments_lexer": "ipython3",
   "version": "3.9.13"
  },
  "toc": {
   "base_numbering": 1,
   "nav_menu": {},
   "number_sections": true,
   "sideBar": true,
   "skip_h1_title": false,
   "title_cell": "Table of Contents",
   "title_sidebar": "Contents",
   "toc_cell": false,
   "toc_position": {},
   "toc_section_display": true,
   "toc_window_display": false
  }
 },
 "nbformat": 4,
 "nbformat_minor": 5
}
